{
 "cells": [
  {
   "cell_type": "raw",
   "id": "41e736b0-766a-4343-b268-a5c056e9fcaf",
   "metadata": {},
   "source": [
    "# Source code for the 'MapReduce and Word Count' Exercise in\n",
    "# Data Analytics with Spark Using Python\n",
    "# by Jeffrey Aven\n",
    "\n",
    "import sys, re\n",
    "from pyspark import SparkConf, SparkContext\n",
    "conf = SparkConf().setAppName('Word Counts')\n",
    "sc = SparkContext(conf=conf)\n",
    "\n",
    "# check command line arguments\n",
    "if (len(sys.argv) != 3):\n",
    "\tprint(\"\"\"\\\n",
    "This program will count occurances of each word in a document or documents\n",
    "and return the counts sorted by the most frequently occuring words\n",
    "\n",
    "Usage:  wordcounts.py <input_file_or_dir> <output_dir>\n",
    "\"\"\")\n",
    "\tsys.exit(0)\n",
    "else:\n",
    "\tinputpath = sys.argv[1]\n",
    "\toutputdir = sys.argv[2]\n",
    "\n",
    "# count and sort word occurances\t\n",
    "wordcounts = sc.textFile(\"file://\" + inputpath) \\\n",
    "\t\t\t   .filter(lambda line: len(line) > 0) \\\n",
    "\t\t\t   .flatMap(lambda line: re.split('\\W+', line)) \\\n",
    "\t\t\t   .filter(lambda word: len(word) > 0) \\\n",
    "\t\t\t   .map(lambda word:(word.lower(),1)) \\\n",
    "\t\t\t   .reduceByKey(lambda v1, v2: v1 + v2) \\\n",
    "\t\t\t   .map(lambda x: (x[1],x[0])) \\\n",
    "\t\t\t   .sortByKey(ascending=False) \\\n",
    "\t\t\t   .persist()\n",
    "wordcounts.saveAsTextFile(\"file://\" + outputdir)\n",
    "top5words = wordcounts.take(5)\n",
    "justwords = []\n",
    "for wordsandcounts in top5words:\n",
    "\tjustwords.append(wordsandcounts[1])\n",
    "print(\"The top five words are : \" + str(justwords))\n",
    "print(\"Check the complete output in \" + outputdir)"
   ]
  },
  {
   "cell_type": "code",
   "execution_count": 1,
   "id": "2b79d192-15a5-4c60-982a-dceaffcc4aaf",
   "metadata": {},
   "outputs": [],
   "source": [
    "import sys, re\n",
    "from pyspark.sql import SparkSession\n",
    "spark_session = SparkSession.builder.master(\"local\").appName(\"pairrdd-op-test1\").getOrCreate()"
   ]
  },
  {
   "cell_type": "code",
   "execution_count": 17,
   "id": "5f7e48fe-721f-42e9-a5a9-14b666dc505a",
   "metadata": {},
   "outputs": [],
   "source": [
    "shakespeare = spark_session.sparkContext.textFile(\"./data/shakespeare.txt\")\n",
    "wordcounts = shakespeare.filter(lambda line: len(line) > 0) \\\n",
    "\t\t\t   .flatMap(lambda line: re.split('\\W+', line)) \\\n",
    "\t\t\t   .filter(lambda word: len(word) > 0) \\\n",
    "\t\t\t   .map(lambda word:(word.lower(),1)) \n",
    "    \t\t#\t.reduceByKey(lambda v1, v2: v1 + v2) \n",
    "\t\t\t   # .map(lambda x: (x[1],x[0])) \\\n",
    "\t\t\t   # .sortByKey(ascending=False) \\\n",
    "\t\t\t   # .persist()"
   ]
  },
  {
   "cell_type": "code",
   "execution_count": 18,
   "id": "7d3a09f0-22de-46ca-b748-2b6d4b3b67ae",
   "metadata": {},
   "outputs": [
    {
     "name": "stdout",
     "output_type": "stream",
     "text": [
      "[('a', 1), ('midsummer', 1), ('night', 1), ('s', 1), ('dream', 1), ('now', 1), ('fair', 1), ('hippolyta', 1), ('our', 1), ('nuptial', 1), ('hour', 1), ('draws', 1), ('on', 1), ('apace', 1), ('four', 1), ('happy', 1), ('days', 1), ('bring', 1), ('in', 1), ('another', 1), ('moon', 1), ('but', 1), ('o', 1), ('methinks', 1), ('how', 1), ('slow', 1), ('this', 1), ('old', 1), ('moon', 1), ('wanes', 1), ('she', 1), ('lingers', 1), ('my', 1), ('desires', 1), ('like', 1), ('to', 1), ('a', 1), ('step', 1), ('dame', 1), ('or', 1), ('a', 1), ('dowager', 1), ('long', 1), ('withering', 1), ('out', 1), ('a', 1), ('young', 1), ('man', 1), ('s', 1), ('revenue', 1), ('four', 1), ('days', 1), ('will', 1), ('quickly', 1), ('steep', 1), ('themselves', 1), ('in', 1), ('night', 1), ('four', 1), ('nights', 1), ('will', 1), ('quickly', 1), ('dream', 1), ('away', 1), ('the', 1), ('time', 1), ('and', 1), ('then', 1), ('the', 1), ('moon', 1), ('like', 1), ('to', 1), ('a', 1), ('silver', 1), ('bow', 1), ('new', 1), ('bent', 1), ('in', 1), ('heaven', 1), ('shall', 1), ('behold', 1), ('the', 1), ('night', 1), ('of', 1), ('our', 1), ('solemnities', 1), ('go', 1), ('philostrate', 1), ('stir', 1), ('up', 1), ('the', 1), ('athenian', 1), ('youth', 1), ('to', 1), ('merriments', 1), ('awake', 1), ('the', 1), ('pert', 1), ('and', 1), ('nimble', 1), ('spirit', 1), ('of', 1), ('mirth', 1), ('turn', 1), ('melancholy', 1), ('forth', 1), ('to', 1), ('funerals', 1), ('the', 1), ('pale', 1), ('companion', 1), ('is', 1), ('not', 1), ('for', 1), ('our', 1), ('pomp', 1), ('hippolyta', 1), ('i', 1), ('woo', 1), ('d', 1), ('thee', 1), ('with', 1), ('my', 1), ('sword', 1), ('and', 1), ('won', 1), ('thy', 1), ('love', 1), ('doing', 1), ('thee', 1), ('injuries', 1), ('but', 1), ('i', 1), ('will', 1), ('wed', 1), ('thee', 1), ('in', 1), ('another', 1), ('key', 1), ('with', 1), ('pomp', 1), ('with', 1), ('triumph', 1), ('and', 1), ('with', 1), ('revelling', 1), ('happy', 1), ('be', 1), ('theseus', 1), ('our', 1), ('renowned', 1), ('duke', 1), ('thanks', 1), ('good', 1), ('egeus', 1), ('what', 1), ('s', 1), ('the', 1), ('news', 1), ('with', 1), ('thee', 1), ('full', 1), ('of', 1), ('vexation', 1), ('come', 1), ('i', 1), ('with', 1), ('complaint', 1), ('against', 1), ('my', 1), ('child', 1), ('my', 1), ('daughter', 1), ('hermia', 1), ('stand', 1), ('forth', 1), ('demetrius', 1), ('my', 1), ('noble', 1), ('lord', 1), ('this', 1), ('man', 1), ('hath', 1), ('my', 1), ('consent', 1), ('to', 1), ('marry', 1), ('her', 1), ('stand', 1), ('forth', 1), ('lysander', 1), ('and', 1), ('my', 1), ('gracious', 1), ('duke', 1), ('this', 1), ('man', 1), ('hath', 1), ('bewitch', 1), ('d', 1), ('the', 1), ('bosom', 1), ('of', 1), ('my', 1), ('child', 1), ('thou', 1), ('thou', 1), ('lysander', 1), ('thou', 1), ('hast', 1), ('given', 1), ('her', 1), ('rimes', 1), ('and', 1), ('interchang', 1), ('d', 1), ('love', 1), ('tokens', 1), ('with', 1), ('my', 1), ('child', 1), ('thou', 1), ('hast', 1), ('by', 1), ('moonlight', 1), ('at', 1), ('her', 1), ('window', 1), ('sung', 1), ('with', 1), ('feigning', 1), ('voice', 1), ('verses', 1), ('of', 1), ('feigning', 1), ('love', 1), ('and', 1), ('stol', 1), ('n', 1), ('the', 1), ('impression', 1), ('of', 1), ('her', 1), ('fantasy', 1), ('with', 1), ('bracelets', 1), ('of', 1), ('thy', 1), ('hair', 1), ('rings', 1), ('gawds', 1), ('conceits', 1), ('knacks', 1), ('trifles', 1), ('nosegays', 1), ('sweetmeats', 1), ('messengers', 1), ('of', 1), ('strong', 1), ('prevailment', 1), ('in', 1), ('unharden', 1), ('d', 1), ('youth', 1), ('with', 1), ('cunning', 1), ('hast', 1), ('thou', 1), ('filch', 1), ('d', 1), ('my', 1), ('daughter', 1), ('s', 1), ('heart', 1), ('turn', 1), ('d', 1), ('her', 1), ('obedience', 1), ('which', 1), ('is', 1), ('due', 1), ('to', 1), ('me', 1), ('to', 1), ('stubborn', 1), ('harshness', 1), ('and', 1), ('my', 1), ('gracious', 1), ('duke', 1), ('be', 1), ('it', 1), ('so', 1), ('she', 1), ('will', 1), ('not', 1), ('here', 1), ('before', 1), ('your', 1), ('grace', 1), ('consent', 1), ('to', 1), ('marry', 1), ('with', 1), ('demetrius', 1), ('i', 1), ('beg', 1), ('the', 1), ('ancient', 1), ('privilege', 1), ('of', 1), ('athens', 1), ('as', 1), ('she', 1), ('is', 1), ('mine', 1), ('i', 1), ('may', 1), ('dispose', 1), ('of', 1), ('her', 1), ('which', 1), ('shall', 1), ('be', 1), ('either', 1), ('to', 1), ('this', 1), ('gentleman', 1), ('or', 1), ('to', 1), ('her', 1), ('death', 1), ('according', 1), ('to', 1), ('our', 1), ('law', 1), ('immediately', 1), ('provided', 1), ('in', 1), ('that', 1), ('case', 1), ('what', 1), ('say', 1), ('you', 1), ('hermia', 1), ('be', 1), ('advis', 1), ('d', 1), ('fair', 1), ('maid', 1), ('to', 1), ('you', 1), ('your', 1), ('father', 1), ('should', 1), ('be', 1), ('as', 1), ('a', 1), ('god', 1), ('one', 1), ('that', 1), ('compos', 1), ('d', 1), ('your', 1), ('beauties', 1), ('yea', 1), ('and', 1), ('one', 1), ('to', 1), ('whom', 1), ('you', 1), ('are', 1), ('but', 1), ('as', 1), ('a', 1), ('form', 1), ('in', 1), ('wax', 1), ('by', 1), ('him', 1), ('imprinted', 1), ('and', 1), ('within', 1), ('his', 1), ('power', 1), ('to', 1), ('leave', 1), ('the', 1), ('figure', 1), ('or', 1), ('disfigure', 1), ('it', 1), ('demetrius', 1), ('is', 1), ('a', 1), ('worthy', 1), ('gentleman', 1), ('so', 1), ('is', 1), ('lysander', 1), ('in', 1), ('himself', 1), ('he', 1), ('is', 1), ('but', 1), ('in', 1), ('this', 1), ('kind', 1), ('wanting', 1), ('your', 1), ('father', 1), ('s', 1), ('voice', 1), ('the', 1), ('other', 1), ('must', 1), ('be', 1), ('held', 1), ('the', 1), ('worthier', 1), ('i', 1), ('would', 1), ('my', 1), ('father', 1), ('look', 1), ('d', 1), ('but', 1), ('with', 1), ('my', 1), ('eyes', 1), ('rather', 1), ('your', 1), ('eyes', 1), ('must', 1), ('with', 1), ('his', 1), ('judgment', 1), ('look', 1), ('i', 1), ('do', 1), ('entreat', 1), ('your', 1), ('grace', 1), ('to', 1), ('pardon', 1), ('me', 1), ('i', 1), ('know', 1), ('not', 1), ('by', 1), ('what', 1), ('power', 1), ('i', 1), ('am', 1), ('made', 1), ('bold', 1), ('nor', 1), ('how', 1), ('it', 1), ('may', 1), ('concern', 1), ('my', 1), ('modesty', 1), ('in', 1), ('such', 1), ('a', 1), ('presence', 1), ('here', 1), ('to', 1), ('plead', 1), ('my', 1), ('thoughts', 1), ('but', 1), ('i', 1), ('beseech', 1), ('your', 1), ('grace', 1), ('that', 1), ('i', 1), ('may', 1), ('know', 1), ('the', 1), ('worst', 1), ('that', 1), ('may', 1), ('befall', 1), ('me', 1), ('in', 1), ('this', 1), ('case', 1), ('if', 1), ('i', 1), ('refuse', 1), ('to', 1), ('wed', 1), ('demetrius', 1), ('either', 1), ('to', 1), ('die', 1), ('the', 1), ('death', 1), ('or', 1), ('to', 1), ('abjure', 1), ('for', 1), ('ever', 1), ('the', 1), ('society', 1), ('of', 1), ('men', 1), ('therefore', 1), ('fair', 1), ('hermia', 1), ('question', 1), ('your', 1), ('desires', 1), ('know', 1), ('of', 1), ('your', 1), ('youth', 1), ('examine', 1), ('well', 1), ('your', 1), ('blood', 1), ('whe', 1), ('r', 1), ('if', 1), ('you', 1), ('yield', 1), ('not', 1), ('to', 1), ('your', 1), ('father', 1), ('s', 1), ('choice', 1), ('you', 1), ('can', 1), ('endure', 1), ('the', 1), ('livery', 1), ('of', 1), ('a', 1), ('nun', 1), ('for', 1), ('aye', 1), ('to', 1), ('be', 1), ('in', 1), ('shady', 1), ('cloister', 1), ('mew', 1), ('d', 1), ('to', 1), ('live', 1), ('a', 1), ('barren', 1), ('sister', 1), ('all', 1), ('your', 1), ('life', 1), ('chanting', 1), ('faint', 1), ('hymns', 1), ('to', 1), ('the', 1), ('cold', 1), ('fruitless', 1), ('moon', 1), ('thrice', 1), ('blessed', 1), ('they', 1), ('that', 1), ('master', 1), ('so', 1), ('their', 1), ('blood', 1), ('to', 1), ('undergo', 1), ('such', 1), ('maiden', 1), ('pilgrimage', 1), ('but', 1), ('earthlier', 1), ('happy', 1), ('is', 1), ('the', 1), ('rose', 1), ('distill', 1), ('d', 1), ('than', 1), ('that', 1), ('which', 1), ('withering', 1), ('on', 1), ('the', 1), ('virgin', 1), ('thorn', 1), ('grows', 1), ('lives', 1), ('and', 1), ('dies', 1), ('in', 1), ('single', 1), ('blessedness', 1), ('so', 1), ('will', 1), ('i', 1), ('grow', 1), ('so', 1), ('live', 1), ('so', 1), ('die', 1), ('my', 1), ('lord', 1), ('ere', 1), ('i', 1), ('will', 1), ('yield', 1), ('my', 1), ('virgin', 1), ('patent', 1), ('up', 1), ('unto', 1), ('his', 1), ('lordship', 1), ('whose', 1), ('unwished', 1), ('yoke', 1), ('my', 1), ('soul', 1), ('consents', 1), ('not', 1), ('to', 1), ('give', 1), ('sovereignty', 1), ('take', 1), ('time', 1), ('to', 1), ('pause', 1), ('and', 1), ('by', 1), ('the', 1), ('next', 1), ('new', 1), ('moon', 1), ('the', 1), ('sealing', 1), ('day', 1), ('betwixt', 1), ('my', 1), ('love', 1), ('and', 1), ('me', 1), ('for', 1), ('everlasting', 1), ('bond', 1), ('of', 1), ('fellowship', 1), ('upon', 1), ('that', 1), ('day', 1), ('either', 1), ('prepare', 1), ('to', 1), ('die', 1), ('for', 1), ('disobedience', 1), ('to', 1), ('your', 1), ('father', 1), ('s', 1), ('will', 1), ('or', 1), ('else', 1), ('to', 1), ('wed', 1), ('demetrius', 1), ('as', 1), ('he', 1), ('would', 1), ('or', 1), ('on', 1), ('diana', 1), ('s', 1), ('altar', 1), ('to', 1), ('protest', 1), ('for', 1), ('aye', 1), ('austerity', 1), ('and', 1), ('single', 1), ('life', 1), ('relent', 1), ('sweet', 1), ('hermia', 1), ('and', 1), ('lysander', 1), ('yield', 1), ('thy', 1), ('crazed', 1), ('title', 1), ('to', 1), ('my', 1), ('certain', 1), ('right', 1), ('you', 1), ('have', 1), ('her', 1), ('father', 1), ('s', 1), ('love', 1), ('demetrius', 1), ('let', 1), ('me', 1), ('have', 1), ('hermia', 1), ('s', 1), ('do', 1), ('you', 1), ('marry', 1), ('him', 1), ('scornful', 1), ('lysander', 1), ('true', 1), ('he', 1), ('hath', 1), ('my', 1), ('love', 1), ('and', 1), ('what', 1), ('is', 1), ('mine', 1), ('my', 1), ('love', 1), ('shall', 1), ('render', 1), ('him', 1), ('and', 1), ('she', 1), ('is', 1), ('mine', 1), ('and', 1), ('all', 1), ('my', 1), ('right', 1), ('of', 1), ('her', 1), ('i', 1), ('do', 1), ('estate', 1), ('unto', 1), ('demetrius', 1), ('i', 1), ('am', 1), ('my', 1), ('lord', 1), ('as', 1), ('well', 1), ('deriv', 1), ('d', 1), ('as', 1), ('he', 1), ('as', 1), ('well', 1), ('possess', 1), ('d', 1), ('my', 1), ('love', 1), ('is', 1), ('more', 1), ('than', 1), ('his', 1), ('my', 1), ('fortunes', 1), ('every', 1), ('way', 1), ('as', 1), ('fairly', 1), ('rank', 1), ('d', 1), ('if', 1), ('not', 1), ('with', 1), ('vantage', 1), ('as', 1), ('demetrius', 1), ('and', 1), ('which', 1), ('is', 1), ('more', 1), ('than', 1), ('all', 1), ('these', 1), ('boasts', 1), ('can', 1), ('be', 1), ('i', 1), ('am', 1), ('belov', 1), ('d', 1), ('of', 1), ('beauteous', 1), ('hermia', 1), ('why', 1), ('should', 1), ('not', 1), ('i', 1), ('then', 1), ('prosecute', 1), ('my', 1), ('right', 1), ('demetrius', 1), ('i', 1), ('ll', 1), ('avouch', 1), ('it', 1), ('to', 1), ('his', 1), ('head', 1), ('made', 1), ('love', 1), ('to', 1), ('nedar', 1), ('s', 1), ('daughter', 1), ('helena', 1), ('and', 1), ('won', 1), ('her', 1), ('soul', 1), ('and', 1), ('she', 1), ('sweet', 1), ('lady', 1), ('dotes', 1), ('devoutly', 1), ('dotes', 1), ('dotes', 1), ('in', 1), ('idolatry', 1), ('upon', 1), ('this', 1), ('spotted', 1), ('and', 1), ('inconstant', 1), ('man', 1), ('i', 1), ('must', 1), ('confess', 1), ('that', 1), ('i', 1), ('have', 1), ('heard', 1), ('so', 1), ('much', 1), ('and', 1), ('with', 1), ('demetrius', 1), ('thought', 1), ('to', 1), ('have', 1), ('spoke', 1), ('thereof', 1), ('but', 1), ('being', 1), ('over', 1), ('full', 1), ('of', 1), ('self', 1), ('affairs', 1), ('my', 1), ('mind', 1), ('did', 1), ('lose', 1), ('it', 1), ('but', 1), ('demetrius', 1), ('come', 1), ('and', 1), ('come', 1), ('egeus', 1), ('you', 1), ('shall', 1), ('go', 1), ('with', 1), ('me', 1), ('i', 1), ('have', 1), ('some', 1), ('private', 1), ('schooling', 1), ('for', 1), ('you', 1), ('both', 1), ('for', 1), ('you', 1), ('fair', 1), ('hermia', 1), ('look', 1), ('you', 1), ('arm', 1), ('yourself', 1), ('to', 1), ('fit', 1), ('your', 1), ('fancies', 1), ('to', 1), ('your', 1), ('father', 1), ('s', 1), ('will', 1), ('or', 1), ('else', 1), ('the', 1), ('law', 1), ('of', 1), ('athens', 1), ('yields', 1), ('you', 1), ('up', 1), ('which', 1), ('by', 1), ('no', 1), ('means', 1), ('we', 1), ('may', 1), ('extenuate', 1), ('to', 1), ('death', 1), ('or', 1), ('to', 1), ('a', 1), ('vow', 1), ('of', 1), ('single', 1), ('life', 1), ('come', 1), ('my', 1), ('hippolyta', 1), ('what', 1), ('cheer', 1), ('my', 1), ('love', 1), ('demetrius', 1), ('and', 1), ('egeus', 1), ('go', 1), ('along', 1), ('i', 1), ('must', 1), ('employ', 1), ('you', 1), ('in', 1), ('some', 1), ('business', 1), ('against', 1), ('our', 1), ('nuptial', 1), ('and', 1), ('confer', 1), ('with', 1), ('you', 1), ('of', 1), ('something', 1), ('nearly', 1), ('that', 1), ('concerns', 1), ('yourselves', 1), ('with', 1), ('duty', 1), ('and', 1), ('desire', 1), ('we', 1), ('follow', 1), ('you', 1), ('how', 1), ('now', 1), ('my', 1), ('love', 1), ('why', 1), ('is', 1), ('your', 1), ('cheek', 1), ('so', 1), ('pale', 1), ('how', 1), ('chance', 1), ('the', 1), ('roses', 1), ('there', 1), ('do', 1), ('fade', 1), ('so', 1), ('fast', 1), ('belike', 1), ('for', 1), ('want', 1), ('of', 1), ('rain', 1)]\n"
     ]
    }
   ],
   "source": [
    "top5words = wordcounts.take(1000)\n",
    "print(top5words)\n",
    "# justwords = []\n",
    "# for wordsandcounts in top5words:\n",
    "# \tjustwords.append(wordsandcounts[1])\n",
    "# print(\"The top five words are : \" + str(justwords))\n"
   ]
  },
  {
   "cell_type": "code",
   "execution_count": null,
   "id": "8fefc0c9-1363-44c2-9410-39c0242d75b3",
   "metadata": {},
   "outputs": [],
   "source": []
  }
 ],
 "metadata": {
  "kernelspec": {
   "display_name": "Python 3 (ipykernel)",
   "language": "python",
   "name": "python3"
  },
  "language_info": {
   "codemirror_mode": {
    "name": "ipython",
    "version": 3
   },
   "file_extension": ".py",
   "mimetype": "text/x-python",
   "name": "python",
   "nbconvert_exporter": "python",
   "pygments_lexer": "ipython3",
   "version": "3.11.5"
  }
 },
 "nbformat": 4,
 "nbformat_minor": 5
}
