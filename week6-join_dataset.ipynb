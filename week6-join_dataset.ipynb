{
 "cells": [
  {
   "cell_type": "raw",
   "id": "d7d7beac-3709-4103-a889-71f23e91ea34",
   "metadata": {},
   "source": [
    "import sys, re\n",
    "from pyspark import SparkConf, SparkContext\n",
    "conf = SparkConf().setAppName('Joining Datasets in Spark')\n",
    "sc = SparkContext(conf=conf)\n",
    "\n",
    "# check command line arguments\n",
    "if (len(sys.argv) != 3):\n",
    "\tprint(\"\"\"\\\n",
    "This program will find the top stations for average bikes available \n",
    "by station and hour from the Bay Area Bike Share dataset\n",
    "\n",
    "Usage:  joins.py <data_dir> <output_dir>\n",
    "\"\"\")\n",
    "\tsys.exit(0)\n",
    "else:\n",
    "\tinputpath = sys.argv[1]\n",
    "\toutputdir = sys.argv[2]\n",
    "\n",
    "stations = sc.textFile(inputpath + \"/stations\") \\\n",
    "\t.map(lambda x: x.split(',')) \\\n",
    "\t.filter(lambda x: x[5] == 'San Jose') \\\n",
    "\t.map(lambda x: (int(x[0]), x[1])) \\\n",
    "\t.keyBy(lambda x: x[0])\n",
    "\n",
    "status = sc.textFile(inputpath + \"/status\")\t\\\n",
    "\t.map(lambda x: x.split(',')) \\\n",
    "\t.map(lambda x: (x[0], x[1], x[2], x[3].replace('\"',''))) \\\n",
    "\t.map(lambda x: (x[0], x[1], x[2], x[3].split(' '))) \\\n",
    "\t.map(lambda x: (x[0], x[1], x[2], x[3][0].split('-'), x[3][1].split(':'))) \\\n",
    "\t.map(lambda x: (int(x[0]), int(x[1]), int(x[3][0]), int(x[3][1]), int(x[3][2]), int(x[4][0]))) \\\n",
    "\t.filter(lambda x: x[2]==2015 and x[3]==2 and x[4]>=22) \\\n",
    "\t.map(lambda x: (x[0], x[1], x[5])) \\\n",
    "\t.keyBy(lambda x: x[0])\n",
    "\n",
    "joined = status.join(stations)\n",
    "\n",
    "cleaned = joined.map(lambda x: (x[0], x[1][0][1], x[1][0][2], x[1][1][1]))\n",
    "\n",
    "topavail = cleaned.keyBy(lambda x: (x[3],x[2])) \\\n",
    "\t.mapValues(lambda x: (x[1], 1)) \\\n",
    "\t.reduceByKey(lambda x, y: (x[0] + y[0], x[1] + y[1])) \\\n",
    "\t.mapValues(lambda x: (x[0]/x[1])) \\\n",
    "\t.keyBy(lambda x: x[1]) \\\n",
    "\t.sortByKey(ascending=False) \\\n",
    "\t.map(lambda x: (x[1][0][0], x[1][0][1], x[0])) \\\n",
    "\t.persist()\n",
    "\t\n",
    "topavail.saveAsTextFile(\"file://\" + outputdir)\n",
    "top10stations = topavail.take(10)\n",
    "print(\"The top ten stations by hour are : \")\n",
    "for stationinfo in top10stations:\n",
    "\tprint(str(stationinfo))\n",
    "print(\"Check the complete output in \" + outputdir)"
   ]
  },
  {
   "cell_type": "code",
   "execution_count": 2,
   "id": "dce912f2-44b7-44a1-a68d-2550c38a3448",
   "metadata": {},
   "outputs": [],
   "source": [
    "import sys, re\n",
    "from pyspark.sql import SparkSession\n",
    "spark_session = SparkSession.builder.master(\"local\").appName(\"join-dataset-test1\").getOrCreate()"
   ]
  },
  {
   "cell_type": "markdown",
   "id": "f6b36d8d-313e-4c3b-8a1e-d794ba9286cf",
   "metadata": {},
   "source": [
    "### stations.csv\n",
    "- station_id : 스테이션 ID 번호\n",
    "- name : 스테이션 이름\n",
    "- lat : 위도\n",
    "- long : 경도\n",
    "- dockcount : 스테이션에 설치된 독 수\n",
    "- landmark : 도시\n",
    "- installation : 스테이션이 설치된 날짜\n",
    "- ex) \n",
    " 9,Japantown,37.348742,-121.894715,15,San Jose,8/5/2013"
   ]
  },
  {
   "cell_type": "code",
   "execution_count": 3,
   "id": "0107564c-11da-4c4f-afca-a78a8bde63ac",
   "metadata": {},
   "outputs": [
    {
     "name": "stdout",
     "output_type": "stream",
     "text": [
      "[(2, (2, 'San Jose Diridon Caltrain Station')), (3, (3, 'San Jose Civic Center')), (4, (4, 'Santa Clara at Almaden')), (5, (5, 'Adobe on Almaden')), (6, (6, 'San Pedro Square'))]\n"
     ]
    }
   ],
   "source": [
    "stations = spark_session.sparkContext.textFile(\"./data/stations.csv\") \\\n",
    "\t.map(lambda x: x.split(',')) \\\n",
    "\t.filter(lambda x: x[5] == 'San Jose') \\\n",
    "\t.map(lambda x: (int(x[0]), x[1])) \\\n",
    "\t.keyBy(lambda x: x[0])\n",
    "print(stations.take(5))"
   ]
  },
  {
   "cell_type": "markdown",
   "id": "f69fd0e7-e8f9-4826-84ec-f27f9cf6de21",
   "metadata": {},
   "source": [
    "### status.csv\n",
    "- station_id : 스테이션 ID 번호\n",
    "- bikes_available : 사용가능한 자전거 수\n",
    "- docks_available : 사용가능한 독 수\n",
    "- time : 날짜 및 시간, PST\n",
    "- ex)\n",
    "10,9,6,\"2015-02-28 23:59:01\""
   ]
  },
  {
   "cell_type": "code",
   "execution_count": 5,
   "id": "297e2eff-6d52-4222-b15e-ced3d33b00c8",
   "metadata": {},
   "outputs": [
    {
     "name": "stdout",
     "output_type": "stream",
     "text": [
      "[('10', '9', '6', '2015-02-28 23:59:01'), ('10', '9', '6', '2015-02-28 23:58:02'), ('10', '9', '6', '2015-02-28 23:57:02'), ('10', '8', '7', '2015-02-28 23:56:02'), ('10', '8', '7', '2015-02-28 23:55:02')]\n",
      "[(10, 9, 2015, 2, 28, 23), (10, 9, 2015, 2, 28, 23), (10, 9, 2015, 2, 28, 23), (10, 8, 2015, 2, 28, 23), (10, 8, 2015, 2, 28, 23)]\n",
      "[(10, (10, 9, 23)), (10, (10, 9, 23)), (10, (10, 9, 23)), (10, (10, 8, 23)), (10, (10, 8, 23))]\n"
     ]
    }
   ],
   "source": [
    "\n",
    "tmp1 = spark_session.sparkContext.textFile(\"./data/status.csv\")\\\n",
    "\t.map(lambda x: x.split(',')) \\\n",
    "\t.map(lambda x: (x[0], x[1], x[2], x[3].replace('\"',''))) \n",
    "tmp2 = tmp1.map(lambda x: (x[0], x[1], x[2], x[3].split(' '))) \\\n",
    "\t.map(lambda x: (x[0], x[1], x[2], x[3][0].split('-'), x[3][1].split(':'))) \\\n",
    "\t.map(lambda x: (int(x[0]), int(x[1]), int(x[3][0]), int(x[3][1]), int(x[3][2]), int(x[4][0])))\n",
    "status = tmp2.filter(lambda x: x[2]==2015 and x[3]==2 and x[4]>=22) \\\n",
    "\t.map(lambda x: (x[0], x[1], x[5])) \\\n",
    "\t.keyBy(lambda x: x[0])\n",
    "print(tmp1.take(5))\n",
    "print(tmp2.take(5))\n",
    "print(status.take(5))"
   ]
  },
  {
   "cell_type": "code",
   "execution_count": 8,
   "id": "5df5e442-7d94-4d3f-b617-dcdab1e00f10",
   "metadata": {},
   "outputs": [
    {
     "name": "stdout",
     "output_type": "stream",
     "text": [
      "[(10, ((10, 9, 23), (10, 'San Jose City Hall'))), (10, ((10, 9, 23), (10, 'San Jose City Hall'))), (10, ((10, 9, 23), (10, 'San Jose City Hall'))), (10, ((10, 8, 23), (10, 'San Jose City Hall'))), (10, ((10, 8, 23), (10, 'San Jose City Hall')))]\n",
      "[(10, 9, 23, 'San Jose City Hall'), (10, 9, 23, 'San Jose City Hall'), (10, 9, 23, 'San Jose City Hall'), (10, 8, 23, 'San Jose City Hall'), (10, 8, 23, 'San Jose City Hall')]\n"
     ]
    }
   ],
   "source": [
    "joined = status.join(stations)\n",
    "cleaned = joined.map(lambda x: (x[0], x[1][0][1], x[1][0][2], x[1][1][1]))\n",
    "\n",
    "print(joined.take(5))\n",
    "print(cleaned.take(5))"
   ]
  },
  {
   "cell_type": "code",
   "execution_count": 9,
   "id": "15eb9ba6-294d-48dc-a202-6fdecfc62bf5",
   "metadata": {},
   "outputs": [
    {
     "name": "stdout",
     "output_type": "stream",
     "text": [
      "[(('San Jose City Hall', 23), (10, 9, 23, 'San Jose City Hall')), (('San Jose City Hall', 23), (10, 9, 23, 'San Jose City Hall')), (('San Jose City Hall', 23), (10, 9, 23, 'San Jose City Hall')), (('San Jose City Hall', 23), (10, 8, 23, 'San Jose City Hall')), (('San Jose City Hall', 23), (10, 8, 23, 'San Jose City Hall'))]\n",
      "[(('San Jose City Hall', 22), 7.3619047619047615), (('San Jose City Hall', 20), 7.354761904761904), (('San Jose City Hall', 18), 7.242857142857143), (('San Jose City Hall', 16), 6.697619047619048), (('San Jose City Hall', 14), 7.252380952380952)]\n",
      "[('San Jose Diridon Caltrain Station', 17, 16.590476190476192), ('San Jose Diridon Caltrain Station', 7, 16.492857142857144), ('San Jose Diridon Caltrain Station', 6, 16.34285714285714), ('San Jose Diridon Caltrain Station', 18, 16.21904761904762), ('San Jose Diridon Caltrain Station', 19, 15.64047619047619)]\n"
     ]
    }
   ],
   "source": [
    "tmp1 = cleaned.keyBy(lambda x: (x[3],x[2]))\n",
    "tmp2 = tmp1.mapValues(lambda x: (x[1], 1)) \\\n",
    "\t.reduceByKey(lambda x, y: (x[0] + y[0], x[1] + y[1])) \\\n",
    "\t.mapValues(lambda x: (x[0]/x[1]))\n",
    "topavail = tmp2.keyBy(lambda x: x[1]) \\\n",
    "\t.sortByKey(ascending=False) \\\n",
    "\t.map(lambda x: (x[1][0][0], x[1][0][1], x[0])) \\\n",
    "\t.persist()\n",
    "print(tmp1.take(5))\n",
    "print(tmp2.take(5))\n",
    "print(topavail.take(5))"
   ]
  },
  {
   "cell_type": "code",
   "execution_count": 18,
   "id": "0a341013-e0f6-448e-879e-40cb92a1948f",
   "metadata": {},
   "outputs": [
    {
     "name": "stdout",
     "output_type": "stream",
     "text": [
      "[(('San Jose City Hall', 23), (10, 9, 23, 'San Jose City Hall')), (('San Jose City Hall', 23), (10, 9, 23, 'San Jose City Hall')), (('San Jose City Hall', 23), (10, 9, 23, 'San Jose City Hall')), (('San Jose City Hall', 23), (10, 8, 23, 'San Jose City Hall')), (('San Jose City Hall', 23), (10, 8, 23, 'San Jose City Hall'))]\n"
     ]
    }
   ],
   "source": [
    "print(cleaned.keyBy(lambda x: (x[3],x[2])).take(5))"
   ]
  },
  {
   "cell_type": "code",
   "execution_count": 19,
   "id": "34459d74-303b-4d9e-b9c0-19e6cd4a76ef",
   "metadata": {},
   "outputs": [
    {
     "name": "stdout",
     "output_type": "stream",
     "text": [
      "('San Jose Diridon Caltrain Station', 17, 16.590476190476192)\n",
      "('San Jose Diridon Caltrain Station', 7, 16.492857142857144)\n",
      "('San Jose Diridon Caltrain Station', 6, 16.34285714285714)\n",
      "('San Jose Diridon Caltrain Station', 18, 16.21904761904762)\n",
      "('San Jose Diridon Caltrain Station', 19, 15.64047619047619)\n",
      "('San Jose Diridon Caltrain Station', 22, 15.516666666666667)\n",
      "('San Jose Diridon Caltrain Station', 0, 15.445238095238095)\n",
      "('San Jose Diridon Caltrain Station', 20, 15.416666666666666)\n",
      "('San Jose Diridon Caltrain Station', 1, 15.392857142857142)\n",
      "('San Jose Diridon Caltrain Station', 4, 15.383333333333333)\n"
     ]
    }
   ],
   "source": [
    "top10stations = topavail.take(10)\n",
    "for stationinfo in top10stations:\n",
    "\tprint(str(stationinfo))"
   ]
  },
  {
   "cell_type": "markdown",
   "id": "57765274-9352-4d61-be2d-7cb32e5ab70a",
   "metadata": {},
   "source": []
  }
 ],
 "metadata": {
  "kernelspec": {
   "display_name": "Python 3 (ipykernel)",
   "language": "python",
   "name": "python3"
  },
  "language_info": {
   "codemirror_mode": {
    "name": "ipython",
    "version": 3
   },
   "file_extension": ".py",
   "mimetype": "text/x-python",
   "name": "python",
   "nbconvert_exporter": "python",
   "pygments_lexer": "ipython3",
   "version": "3.11.5"
  }
 },
 "nbformat": 4,
 "nbformat_minor": 5
}
