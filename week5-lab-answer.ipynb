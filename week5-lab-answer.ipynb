{
 "cells": [
  {
   "cell_type": "markdown",
   "id": "d1cf386b-3589-406a-9e32-b1d08916cdb5",
   "metadata": {},
   "source": [
    "## #다음 testfile1.txt, testfile2.txt, testfile3.txt에 대해서 질문에 답하시오. \n",
    "1. testfile1.txt 에 대해서 각 사람별 평균을 구하시오.\n",
    "2. testfile2.txt, testfile3.txt 에 공통적으로 나타나는 단어에 대해 빈도수를 내림차순으로 출력하시오. "
   ]
  },
  {
   "cell_type": "raw",
   "id": "00ffb59b-31ed-4cf3-94cc-18fd213ae017",
   "metadata": {},
   "source": [
    "---- testfile1.txt ----\n",
    "파일설명: 이름, 중간 및 기말시험 점수\n",
    "\n",
    "seokil, 50\n",
    "seokil, 60\n",
    "gildong, 60\n",
    "gildong, 80\n",
    "-----------------------\n",
    "\n",
    "---- testfile2.txt ----\n",
    "pairRDD = sc.parallelize( [('panda', 0), ('pink', 3), ('pirate', 3), ('panda', 1), ('pink', 4)] )\n",
    "result1 = pairRDD.groupByKey()\n",
    "result2 = result1.map(lambda x : (x[0], len(x[1])))\n",
    "result3 = result1.map(lambda x : (x[0], list(x[1])))\n",
    "\n",
    "print(result2.collect())\n",
    "print(result3.collect())\n",
    "-----------------------\n",
    "\n",
    "---- testfile3.txt ----\n",
    "sc = SparkContext(conf=conf)\n",
    "\n",
    "pairRDD1 = sc.parallelize( [('panda', 0), ('pink', 3)])\n",
    "pairRDD2 = sc.parallelize( [('pirate', 3), ('panda', 1), ('pink', 4)] )\n",
    "result1 = pairRDD1.cogroup(pairRDD2)\n",
    "\n",
    "print(result1.collect())\n",
    "-----------------------"
   ]
  },
  {
   "cell_type": "code",
   "execution_count": 3,
   "id": "b203786d-330b-4c08-8ca4-d3a9be7e1521",
   "metadata": {},
   "outputs": [],
   "source": [
    "from pyspark.sql import SparkSession\n",
    "spark_session = SparkSession.builder.master(\"local\").appName(\"lab5\").getOrCreate()"
   ]
  },
  {
   "cell_type": "markdown",
   "id": "2ec1ce25-24e8-48ec-b1b5-a22dc340e53b",
   "metadata": {},
   "source": [
    "#### 1번 문제"
   ]
  },
  {
   "cell_type": "code",
   "execution_count": 2,
   "id": "5f7f0565-1bd3-4fca-b965-59fef00506f9",
   "metadata": {},
   "outputs": [
    {
     "data": {
      "text/plain": [
       "['seokil, 50', 'seokil, 60']"
      ]
     },
     "execution_count": 2,
     "metadata": {},
     "output_type": "execute_result"
    }
   ],
   "source": [
    "rdd = spark_session.sparkContext.textFile(\"./data/testfile1.txt\")\n",
    "rdd.take(2)"
   ]
  },
  {
   "cell_type": "code",
   "execution_count": 11,
   "id": "85ab33dc-21f7-4df7-aed4-d858d80770c3",
   "metadata": {},
   "outputs": [
    {
     "data": {
      "text/plain": [
       "[('seokil', (50, 1)), ('seokil', (60, 1))]"
      ]
     },
     "execution_count": 11,
     "metadata": {},
     "output_type": "execute_result"
    }
   ],
   "source": [
    "rdd1 = rdd.map(lambda x: x.split(',')).map(lambda x: (x[0], (int(x[1]), 1)))\n",
    "rdd1.take(2)"
   ]
  },
  {
   "cell_type": "code",
   "execution_count": 12,
   "id": "481f0f7d-5be9-4f0c-bb1a-9df04adcd3c0",
   "metadata": {},
   "outputs": [
    {
     "data": {
      "text/plain": [
       "[('seokil', (110, 2)), ('gildong', (140, 2))]"
      ]
     },
     "execution_count": 12,
     "metadata": {},
     "output_type": "execute_result"
    }
   ],
   "source": [
    "rdd2 = rdd1.reduceByKey(lambda x, y: (x[0]+y[0], x[1]+y[1]))\n",
    "rdd2.take(2)"
   ]
  },
  {
   "cell_type": "code",
   "execution_count": 15,
   "id": "4307f0e8-d7c0-474b-a05c-016a655d3d44",
   "metadata": {},
   "outputs": [
    {
     "data": {
      "text/plain": [
       "[('seokil', 55.0), ('gildong', 70.0)]"
      ]
     },
     "execution_count": 15,
     "metadata": {},
     "output_type": "execute_result"
    }
   ],
   "source": [
    "rdd3 = rdd2.mapValues(lambda x: x[0]/x[1])\n",
    "rdd3.take(2)"
   ]
  },
  {
   "cell_type": "markdown",
   "id": "e61dc621-6077-470b-a0f0-ffd5cc675c87",
   "metadata": {},
   "source": [
    "#### 2번 문제"
   ]
  },
  {
   "cell_type": "code",
   "execution_count": 4,
   "id": "ca62e052-a052-401f-8665-49474b9efde1",
   "metadata": {},
   "outputs": [
    {
     "name": "stdout",
     "output_type": "stream",
     "text": [
      "[\"pairRDD = sc.parallelize( [('panda', 0), ('pink', 3), ('pirate', 3), ('panda', 1), ('pink', 4)] )\", 'result1 = pairRDD.groupByKey()']\n",
      "['sc = SparkContext(conf=conf)', '']\n"
     ]
    }
   ],
   "source": [
    "t2rdd = spark_session.sparkContext.textFile(\"./data/testfile2.txt\")\n",
    "t3rdd = spark_session.sparkContext.textFile(\"./data/testfile3.txt\")\n",
    "print(t2rdd.take(2))\n",
    "print(t3rdd.take(2))"
   ]
  },
  {
   "cell_type": "code",
   "execution_count": 9,
   "id": "ff448a26-58e2-4d4f-ba5d-6849f0f90356",
   "metadata": {},
   "outputs": [
    {
     "data": {
      "text/plain": [
       "[('pairrdd', 2),\n",
       " ('sc', 1),\n",
       " ('parallelize', 1),\n",
       " ('panda', 2),\n",
       " ('pink', 2),\n",
       " ('pirate', 1)]"
      ]
     },
     "execution_count": 9,
     "metadata": {},
     "output_type": "execute_result"
    }
   ],
   "source": [
    "import sys, re\n",
    "\n",
    "t2rdd_wordcnt = t2rdd.filter(lambda line: len(line) > 0) \\\n",
    "\t\t\t   .flatMap(lambda line: re.split('\\W+', line)) \\\n",
    "\t\t\t   .filter(lambda word: len(word) > 1) \\\n",
    "\t\t\t   .map(lambda word:(word.lower(),1)) \\\n",
    "\t\t\t   .reduceByKey(lambda v1, v2: v1 + v2) \\\n",
    "\t\t\t   .persist()\n",
    "t2rdd_wordcnt.take(6)"
   ]
  },
  {
   "cell_type": "code",
   "execution_count": 6,
   "id": "91b6ff62-419d-48cc-8371-229a159e35df",
   "metadata": {},
   "outputs": [
    {
     "data": {
      "text/plain": [
       "[('sc', 1), ('sparkcontext', 1), ('conf', 1), ('conf', 1), ('pairrdd1', 1)]"
      ]
     },
     "execution_count": 6,
     "metadata": {},
     "output_type": "execute_result"
    }
   ],
   "source": [
    "t3rdd_wordcnt = t3rdd.filter(lambda line: len(line) > 0) \\\n",
    "\t\t\t   .flatMap(lambda line: re.split('\\W+', line)) \\\n",
    "\t\t\t   .filter(lambda word: len(word) > 1) \\\n",
    "\t\t\t   .map(lambda word:(word.lower(),1)) \n",
    "\t\t\t   .reduceByKey(lambda v1, v2: v1 + v2) \\\n",
    "\t\t\t   .persist()\n",
    "t3rdd_wordcnt.take(5)"
   ]
  },
  {
   "cell_type": "code",
   "execution_count": 33,
   "id": "5265d651-f52f-4000-a9e7-b49dd1b26808",
   "metadata": {},
   "outputs": [
    {
     "data": {
      "text/plain": [
       "[('result1', 5), ('sc', 4), ('panda', 4), ('pink', 4), ('parallelize', 3)]"
      ]
     },
     "execution_count": 33,
     "metadata": {},
     "output_type": "execute_result"
    }
   ],
   "source": [
    "result = t2rdd_wordcnt.join(t3rdd_wordcnt).mapValues(lambda x: x[0]+x[1]) \\\n",
    "            .sortBy(lambda x: x[1], ascending=False)\n",
    "result.take(5)"
   ]
  }
 ],
 "metadata": {
  "kernelspec": {
   "display_name": "Python 3 (ipykernel)",
   "language": "python",
   "name": "python3"
  },
  "language_info": {
   "codemirror_mode": {
    "name": "ipython",
    "version": 3
   },
   "file_extension": ".py",
   "mimetype": "text/x-python",
   "name": "python",
   "nbconvert_exporter": "python",
   "pygments_lexer": "ipython3",
   "version": "3.11.5"
  }
 },
 "nbformat": 4,
 "nbformat_minor": 5
}
