{
 "cells": [
  {
   "cell_type": "markdown",
   "id": "e5171646-1350-47ba-9aae-2685ef0d6b75",
   "metadata": {},
   "source": [
    "# PairRDD \n",
    "- Key, Value 쌍으로 데이터를 표현\n",
    "- Key : 단순객체 (정수, 문자열 등 단순 객체) 또는 복합객체(튜플 등의 복합 객체)\n",
    "- Value : 스칼라 값, List, Tuple, Dictionary 등\n",
    "- 주요 PairRDD Transformation, Action 연산\n",
    "    - keys(), values(), keyBy(), mapValues(), flatMapValues(), groupByKey(), reduceByKey(), foldByKey(), sortByKey()"
   ]
  },
  {
   "cell_type": "code",
   "execution_count": 1,
   "id": "b180f986-014e-4896-9c95-b135a9b90dfc",
   "metadata": {},
   "outputs": [],
   "source": [
    "from pyspark.sql import SparkSession\n",
    "spark_session = SparkSession.builder.master(\"local\").appName(\"pairrdd-op-test1\").getOrCreate()"
   ]
  },
  {
   "cell_type": "code",
   "execution_count": 2,
   "id": "bc42a3c7-712f-4878-ab19-72924fc67798",
   "metadata": {},
   "outputs": [
    {
     "data": {
      "text/plain": [
       "[\"A MIDSUMMER-NIGHT'S DREAM\",\n",
       " '',\n",
       " 'Now , fair Hippolyta , our nuptial hour ',\n",
       " 'Draws on apace : four happy days bring in ',\n",
       " 'Another moon ; but O ! methinks how slow ']"
      ]
     },
     "execution_count": 2,
     "metadata": {},
     "output_type": "execute_result"
    }
   ],
   "source": [
    "shakespeare = spark_session.sparkContext.textFile(\"./data/shakespeare.txt\")\n",
    "shakespeare.take(5)"
   ]
  },
  {
   "cell_type": "markdown",
   "id": "ecfd967a-c979-48e7-9dbc-a7fc3ffbf0a5",
   "metadata": {},
   "source": [
    "### keys()\n",
    "- key/value 쌍에서 key를 반환"
   ]
  },
  {
   "cell_type": "code",
   "execution_count": 3,
   "id": "1ca60736-39a9-4fb2-854d-e05f15ad1774",
   "metadata": {},
   "outputs": [
    {
     "data": {
      "text/plain": [
       "['city', 'state']"
      ]
     },
     "execution_count": 3,
     "metadata": {},
     "output_type": "execute_result"
    }
   ],
   "source": [
    "kvrdd = spark_session.sparkContext.parallelize([('city', 'chungju'), ('state', 'chungbuk')])\n",
    "kvrdd.keys().collect()"
   ]
  },
  {
   "cell_type": "markdown",
   "id": "72a38fe4-b383-45bf-a633-0587b73dc7f6",
   "metadata": {},
   "source": [
    "### values()\n",
    "- key/value 쌍에서 value를 반환"
   ]
  },
  {
   "cell_type": "code",
   "execution_count": 4,
   "id": "931b9af5-c104-4470-a533-d7fa355c3eaa",
   "metadata": {},
   "outputs": [
    {
     "data": {
      "text/plain": [
       "['chungju', 'chungbuk']"
      ]
     },
     "execution_count": 4,
     "metadata": {},
     "output_type": "execute_result"
    }
   ],
   "source": [
    "kvrdd.values().collect()"
   ]
  },
  {
   "cell_type": "markdown",
   "id": "539e21bb-7230-4b8d-b5da-0ccbe6bd5025",
   "metadata": {},
   "source": [
    "### keyBy(function)\n",
    "- function을 적용해 key, value 쌍을 생성함"
   ]
  },
  {
   "cell_type": "code",
   "execution_count": 5,
   "id": "07fad49d-2c0a-4f35-a5f6-e8fea4c2b659",
   "metadata": {},
   "outputs": [
    {
     "data": {
      "text/plain": [
       "[(1, ('city', 'chungju', 1)), (2, ('state', 'chungbuk', 2))]"
      ]
     },
     "execution_count": 5,
     "metadata": {},
     "output_type": "execute_result"
    }
   ],
   "source": [
    "kvrdd = spark_session.sparkContext.parallelize([('city', 'chungju', 1), ('state', 'chungbuk', 2)])\n",
    "kvrdd1 = kvrdd.keyBy(lambda x: x[2])\n",
    "kvrdd1.collect()"
   ]
  },
  {
   "cell_type": "markdown",
   "id": "44431dcb-ecf7-44ed-9659-a8c85c1223da",
   "metadata": {},
   "source": [
    "### mapValues(function), flatMapValues(function)\n",
    "- value에 대해서만 map() 수행"
   ]
  },
  {
   "cell_type": "code",
   "execution_count": 6,
   "id": "5391cd29-7479-4763-8339-30d5b73de084",
   "metadata": {},
   "outputs": [
    {
     "data": {
      "text/plain": [
       "[['Hayward', ' 71|69|71|71|72'], ['Baumholder', ' 46|42|40|37|39']]"
      ]
     },
     "execution_count": 6,
     "metadata": {},
     "output_type": "execute_result"
    }
   ],
   "source": [
    "loc_rdd = spark_session.sparkContext.parallelize(['Hayward, 71|69|71|71|72',\n",
    "                                               'Baumholder, 46|42|40|37|39',\n",
    "                                               'Alexandria, 50|48|51|53|44'])\n",
    "kv_loc_rdd = loc_rdd.map(lambda x: x.split(','))\n",
    "kv_loc_rdd.take(2)"
   ]
  },
  {
   "cell_type": "code",
   "execution_count": 7,
   "id": "1d5c8e94-81b9-4c34-9161-850809a9d177",
   "metadata": {},
   "outputs": [
    {
     "data": {
      "text/plain": [
       "[('Hayward', [' 71', '69', '71', '71', '72']),\n",
       " ('Baumholder', [' 46', '42', '40', '37', '39'])]"
      ]
     },
     "execution_count": 7,
     "metadata": {},
     "output_type": "execute_result"
    }
   ],
   "source": [
    "temp_rdd1 = kv_loc_rdd.mapValues(lambda x: x.split('|'))\n",
    "temp_rdd1.take(2)"
   ]
  },
  {
   "cell_type": "code",
   "execution_count": 8,
   "id": "8203cd05-fa95-4778-a9eb-3cc129c41452",
   "metadata": {},
   "outputs": [
    {
     "data": {
      "text/plain": [
       "[('Hayward', [71, 69, 71, 71, 72]), ('Baumholder', [46, 42, 40, 37, 39])]"
      ]
     },
     "execution_count": 8,
     "metadata": {},
     "output_type": "execute_result"
    }
   ],
   "source": [
    "temp_rdd2 = temp_rdd1.mapValues(lambda x: [int(s) for s in x])\n",
    "temp_rdd2.take(2)"
   ]
  },
  {
   "cell_type": "code",
   "execution_count": 9,
   "id": "c323f9e1-4ebb-48ac-8513-8cd62b8be9ab",
   "metadata": {},
   "outputs": [
    {
     "data": {
      "text/plain": [
       "[('Hayward', ' 71'), ('Hayward', '69')]"
      ]
     },
     "execution_count": 9,
     "metadata": {},
     "output_type": "execute_result"
    }
   ],
   "source": [
    "temp_rdd3 = kv_loc_rdd.flatMapValues(lambda x: x.split('|'))\n",
    "temp_rdd3.take(2)"
   ]
  },
  {
   "cell_type": "markdown",
   "id": "2a7c5f34-0a6b-4a92-9d43-ed243d37b5bd",
   "metadata": {},
   "source": [
    "temp_rdd4 = temp_rdd3.map(lambda x: (x[0], int(x[1])))\n",
    "temp_rdd4.take(2)"
   ]
  },
  {
   "cell_type": "markdown",
   "id": "f7c60887-c929-421f-99ef-3a4ebf5fa1cd",
   "metadata": {},
   "source": [
    "### groupByKey(numPartitions, partition_function)\n",
    "- key, value 쌍의 key에 대해 그룹화\n",
    "\n",
    "### reduceByKey(function, numPartitions, partition_function), foldByKey\n",
    "- key에 대해 value 들을 병합"
   ]
  },
  {
   "cell_type": "code",
   "execution_count": 18,
   "id": "35e06eed-f77b-45a6-b30e-36facfa7ac25",
   "metadata": {},
   "outputs": [
    {
     "name": "stdout",
     "output_type": "stream",
     "text": [
      "[('panda', (0, 1)), ('pink', (3, 1)), ('pirate', (3, 1)), ('panda', (1, 1)), ('pink', (4, 1))]\n",
      "[('panda', (1, 2)), ('pink', (7, 2)), ('pirate', (3, 1))]\n",
      "{'panda': 0.5, 'pink': 3.5, 'pirate': 3.0}\n"
     ]
    }
   ],
   "source": [
    "data = spark_session.sparkContext.parallelize( [('panda', 0), ('pink', 3), ('pirate', 3), ('panda', 1), ('pink', 4)] )\n",
    "kvRdd = data.mapValues(lambda x: (x,1))\n",
    "print(kvRdd.collect())\n",
    "sumCount= kvRdd.reduceByKey(lambda x, y: (x[0] + y[0], x[1] + y[1]))\n",
    "#sumCount = data.mapValues(lambda x: (x,1)).reduceByKey(lambda x, y: (x[0] + y[0], x[1] + y[1]))\n",
    "print(sumCount.collect())\n",
    "averageByKey = sumCount.map(lambda x: (x[0], x[1][0] / x[1][1]))\n",
    "print(averageByKey.collectAsMap())"
   ]
  },
  {
   "cell_type": "code",
   "execution_count": 19,
   "id": "00742171-690b-4545-b7ac-e90a7abc761e",
   "metadata": {},
   "outputs": [
    {
     "name": "stdout",
     "output_type": "stream",
     "text": [
      "{'panda': <pyspark.resultiterable.ResultIterable object at 0x7f0dc3b39490>, 'pink': <pyspark.resultiterable.ResultIterable object at 0x7f0dc3b2bbd0>, 'pirate': <pyspark.resultiterable.ResultIterable object at 0x7f0dc3b3bb90>}\n",
      "[('panda', [0, 1]), ('pink', [3, 4]), ('pirate', [3])]\n"
     ]
    }
   ],
   "source": [
    "group = data.groupByKey()\n",
    "print(group.collectAsMap())\n",
    "group1= group.map(lambda x : (x[0], list(x[1])))\n",
    "print(group1.collect())"
   ]
  },
  {
   "cell_type": "markdown",
   "id": "b529adcb-d67c-414f-98fd-65a16b14e21a",
   "metadata": {},
   "source": [
    "### sortByKey(ascending, numPartitions, keyfunc)\n",
    "- key, value 데이터에서 key 를 기준으로 정렬"
   ]
  },
  {
   "cell_type": "code",
   "execution_count": 20,
   "id": "f9978d5f-e12c-4338-a211-250d0bfc9c7e",
   "metadata": {},
   "outputs": [
    {
     "name": "stdout",
     "output_type": "stream",
     "text": [
      "[('panda', 0), ('panda', 1), ('pink', 3), ('pink', 4)]\n"
     ]
    }
   ],
   "source": [
    "sortedKV = data.sortByKey()\n",
    "print(sortedKV.take(4))"
   ]
  },
  {
   "cell_type": "markdown",
   "id": "1d909460-f93d-48d8-9552-c794ec5dd1de",
   "metadata": {},
   "source": [
    "### join(otherRDD, numPartitions)\n",
    "- 2개의 key, value RDD에 대해서 key 가 같은 레코드들을 결합하는 내부 조인(inner join)\n",
    "- numPartitions : join을 통해 생성되는 RDD의 파티션 수"
   ]
  },
  {
   "cell_type": "code",
   "execution_count": 21,
   "id": "bd11d023-8e22-466b-b324-f0e53b1179ac",
   "metadata": {},
   "outputs": [
    {
     "name": "stdout",
     "output_type": "stream",
     "text": [
      "[('apple', (1, 1))]\n",
      "[('abby', (1, None)), ('apple', (1, 1)), ('abe', (1, None))]\n",
      "[('apple', (1, 1)), ('beatty', (None, 1)), ('beatrice', (None, 1))]\n",
      "[('abby', (1, None)), ('apple', (1, 1)), ('abe', (1, None)), ('beatty', (None, 1)), ('beatrice', (None, 1))]\n"
     ]
    }
   ],
   "source": [
    "names1 = spark_session.sparkContext.parallelize((\"abe\", \"abby\", \"apple\")).map(lambda a: (a, 1))\n",
    "names2 = spark_session.sparkContext.parallelize((\"apple\", \"beatty\", \"beatrice\")).map(lambda a: (a, 1))\n",
    "print(names1.join(names2).collect())\n",
    "print(names1.leftOuterJoin(names2).collect())\n",
    "print(names1.rightOuterJoin(names2).collect())\n",
    "print(names1.fullOuterJoin(names2).collect())"
   ]
  },
  {
   "cell_type": "markdown",
   "id": "ac562cf2-6445-4e48-a923-947329f24fd3",
   "metadata": {},
   "source": [
    "### cogroup(otherRDD, numPartitions)\n",
    "- key를 기준으로 다수의 RDD들을 그룹화\n",
    "- fullOuterJoin과 유사하지만 구현 방식은 다름\n",
    "- 출력 : iterable 객체\n",
    "- 3개 이상의 RDD 그룹화 가능"
   ]
  },
  {
   "cell_type": "code",
   "execution_count": 22,
   "id": "3ebb837f-7bfd-4e5c-8dfe-3b9bef2e7ecb",
   "metadata": {},
   "outputs": [
    {
     "name": "stdout",
     "output_type": "stream",
     "text": [
      "[('abby', (<pyspark.resultiterable.ResultIterable object at 0x7f0dc3b54390>, <pyspark.resultiterable.ResultIterable object at 0x7f0dc3b54a90>)), ('apple', (<pyspark.resultiterable.ResultIterable object at 0x7f0dc3b54410>, <pyspark.resultiterable.ResultIterable object at 0x7f0dc3b54690>)), ('abe', (<pyspark.resultiterable.ResultIterable object at 0x7f0dc3b56b90>, <pyspark.resultiterable.ResultIterable object at 0x7f0dc3b57650>)), ('beatty', (<pyspark.resultiterable.ResultIterable object at 0x7f0de66eb3d0>, <pyspark.resultiterable.ResultIterable object at 0x7f0d6624da90>)), ('beatrice', (<pyspark.resultiterable.ResultIterable object at 0x7f0dc3b68cd0>, <pyspark.resultiterable.ResultIterable object at 0x7f0dc3b691d0>))]\n"
     ]
    }
   ],
   "source": [
    "print(names1.cogroup(names2).collect())"
   ]
  },
  {
   "cell_type": "code",
   "execution_count": 28,
   "id": "aa5864b6-ee15-4037-9b68-692526f0984f",
   "metadata": {},
   "outputs": [
    {
     "name": "stdout",
     "output_type": "stream",
     "text": [
      "[('abby', [1]), ('apple', [1, 1]), ('abe', [1]), ('beatty', [1]), ('beatrice', [1])]\n",
      "[('abby', [<pyspark.resultiterable.ResultIterable object at 0x7f0d66249650>, <pyspark.resultiterable.ResultIterable object at 0x7f0dc3b28bd0>]), ('apple', [<pyspark.resultiterable.ResultIterable object at 0x7f0d66461b90>, <pyspark.resultiterable.ResultIterable object at 0x7f0dc3b2ab10>]), ('abe', [<pyspark.resultiterable.ResultIterable object at 0x7f0dc3b298d0>, <pyspark.resultiterable.ResultIterable object at 0x7f0dc3b28b10>]), ('beatty', [<pyspark.resultiterable.ResultIterable object at 0x7f0dc3b286d0>, <pyspark.resultiterable.ResultIterable object at 0x7f0dc3b2a590>]), ('beatrice', [<pyspark.resultiterable.ResultIterable object at 0x7f0dc3b28850>, <pyspark.resultiterable.ResultIterable object at 0x7f0dc3b28510>])]\n"
     ]
    }
   ],
   "source": [
    "cogroupRDD = names1.cogroup(names2)\n",
    "print(cogroupRDD.mapValues(lambda x: [item for sublist in x for item in sublist]).collect())\n",
    "print(cogroupRDD.mapValues(lambda x: [sublist for sublist in x]).collect())"
   ]
  },
  {
   "cell_type": "markdown",
   "id": "339bbe26-1de2-44f7-9bb6-482591dcbd5d",
   "metadata": {},
   "source": [
    "### cartesian(otherRDD)\n",
    "- 크로스 조인 수행\n",
    "- 두 RDD의 key, value 쌍들에 대해 모든 가능한 조합을 만들어서 RDD생성"
   ]
  },
  {
   "cell_type": "markdown",
   "id": "3115b77a-8838-42fb-b414-3ad1ecbccf36",
   "metadata": {},
   "source": [
    "### 집합 연산\n",
    "- union(), intersection(), subtract(), subtractByKey()\n",
    "\n",
    "### 숫자 RDD 처리 연산\n",
    "- min(), max(), mean(), sum(), stdev(), variance(), stats()"
   ]
  }
 ],
 "metadata": {
  "kernelspec": {
   "display_name": "Python 3 (ipykernel)",
   "language": "python",
   "name": "python3"
  },
  "language_info": {
   "codemirror_mode": {
    "name": "ipython",
    "version": 3
   },
   "file_extension": ".py",
   "mimetype": "text/x-python",
   "name": "python",
   "nbconvert_exporter": "python",
   "pygments_lexer": "ipython3",
   "version": "3.11.5"
  }
 },
 "nbformat": 4,
 "nbformat_minor": 5
}
