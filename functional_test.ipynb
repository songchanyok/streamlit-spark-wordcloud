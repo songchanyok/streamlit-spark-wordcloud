{
 "cells": [
  {
   "cell_type": "markdown",
   "id": "e9930178-9697-4e7e-a384-fec7179044ca",
   "metadata": {
    "tags": []
   },
   "source": [
    "# 파이썬의 함수형 언어 특징\n",
    "- 함수를 저장하고 필요에 따라 선택해서 사용\n",
    "- 람다 함수 : 함수 이름이 없는 함수\n",
    "- high-order 함수 : 함수를 다른 함수의 입력이나 출력으로 사용\n"
   ]
  },
  {
   "cell_type": "markdown",
   "id": "3511c2fa-acfe-49ea-82e7-501c1e09c0bb",
   "metadata": {},
   "source": [
    "# 1. 함수저장.\n",
    "- 함수들을 저장하고, 사용자 요청에 따라 선택해서 사용하는 방법"
   ]
  },
  {
   "cell_type": "code",
   "execution_count": 4,
   "id": "ea309b72-589f-4613-b3e4-d3afb1320199",
   "metadata": {},
   "outputs": [
    {
     "name": "stdin",
     "output_type": "stream",
     "text": [
      "평균을 구할 두 수를 입력하세요.  10 20\n",
      "구하고 싶은 평균 번호를 입력하세요.\n",
      "      1. 산술평균\n",
      "      2. 기하평균\n",
      "      3. 조화평균\n",
      "    선택할 평균 번호:  1\n"
     ]
    },
    {
     "name": "stdout",
     "output_type": "stream",
     "text": [
      "평균(10, 20) = 15.0\n"
     ]
    }
   ],
   "source": [
    "# 아래는 함수를 저장하지 않고 조건에 따라 함수를 호출하도록 코딩\n",
    "import math\n",
    "\n",
    "def amean(x, y):\n",
    "    return (x + y) / 2\n",
    "\n",
    "def gmean(x, y):\n",
    "    return math.sqrt(x * y)\n",
    "\n",
    "def hmean(x, y):\n",
    "    return 2 * (x * y) / (x + y)\n",
    "\n",
    "if __name__ == \"__main__\":\n",
    "    line = input(\"평균을 구할 두 수를 입력하세요. \")\n",
    "    (x, y) = (int(s) for s in line.split())\n",
    "    sel = input(\"\"\"구하고 싶은 평균 번호를 입력하세요.\n",
    "      1. 산술평균\n",
    "      2. 기하평균\n",
    "      3. 조화평균\n",
    "    선택할 평균 번호: \"\"\")\n",
    "    n = int(sel)\n",
    "    if n == 1:\n",
    "        mean = amean(x, y)\n",
    "    elif n == 2:\n",
    "        mean = gmean(x, y)\n",
    "    else:\n",
    "        mean = hmean(x, y)\n",
    "    print(f\"평균({x}, {y}) = {mean}\")"
   ]
  },
  {
   "cell_type": "code",
   "execution_count": 5,
   "id": "c2c92889-df61-4605-a44d-22593b60c23b",
   "metadata": {},
   "outputs": [
    {
     "name": "stdin",
     "output_type": "stream",
     "text": [
      "평균을 구할 두 수를 입력하세요.  10 30\n",
      "구하고 싶은 평균 번호를 입력하세요.\n",
      "      1. 산술평균\n",
      "      2. 기하평균\n",
      "      3. 조화평균\n",
      "    선택할 평균 번호:  2\n"
     ]
    },
    {
     "name": "stdout",
     "output_type": "stream",
     "text": [
      "평균(10, 30) = 17.320508075688775\n"
     ]
    }
   ],
   "source": [
    "# 아래는 각 평균 구하는 함수를 리스트에 저장하고 인덱싱을 통해 선택하여 사용\n",
    "import math\n",
    "\n",
    "def amean(x, y):\n",
    "    return (x + y) / 2\n",
    "\n",
    "def gmean(x, y):\n",
    "    return math.sqrt(x * y)\n",
    "\n",
    "def hmean(x, y):\n",
    "    return 2 * (x * y) / (x + y)\n",
    "\n",
    "if __name__ == \"__main__\":\n",
    "    meanf = [amean, gmean, hmean]\n",
    "    line = input(\"평균을 구할 두 수를 입력하세요. \")\n",
    "    (x, y) = (int(s) for s in line.split())\n",
    "    sel = input(\"\"\"구하고 싶은 평균 번호를 입력하세요.\n",
    "      1. 산술평균\n",
    "      2. 기하평균\n",
    "      3. 조화평균\n",
    "    선택할 평균 번호: \"\"\")\n",
    "    n = int(sel)\n",
    "    mean = meanf[n-1](x, y)\n",
    "    print(f\"평균({x}, {y}) = {mean}\")"
   ]
  },
  {
   "cell_type": "markdown",
   "id": "79747074-3d35-4382-8bcc-4ef804b03704",
   "metadata": {},
   "source": [
    "# 2. lambda 함수 \n"
   ]
  },
  {
   "cell_type": "code",
   "execution_count": 7,
   "id": "3a7f56d9-e2c5-48d0-b174-ebd30f666e86",
   "metadata": {},
   "outputs": [
    {
     "name": "stdin",
     "output_type": "stream",
     "text": [
      "평균을 구할 두 수를 입력하세요.  20 12\n",
      "구하고 싶은 평균 번호를 입력하세요.\n",
      "      1. 산술평균\n",
      "      2. 기하평균\n",
      "      3. 조화평균\n",
      "    선택할 평균 번호:  2\n"
     ]
    },
    {
     "name": "stdout",
     "output_type": "stream",
     "text": [
      "평균(20, 12) = 15.491933384829668\n"
     ]
    }
   ],
   "source": [
    "\n",
    "\n",
    "import math\n",
    "\n",
    "if __name__ == \"__main__\":\n",
    "    line = input(\"평균을 구할 두 수를 입력하세요. \")\n",
    "    (x, y) = (int(s) for s in line.split())\n",
    "    sel = input(\"\"\"구하고 싶은 평균 번호를 입력하세요.\n",
    "      1. 산술평균\n",
    "      2. 기하평균\n",
    "      3. 조화평균\n",
    "    선택할 평균 번호: \"\"\")\n",
    "    mean = {\n",
    "        \"1\":lambda x,y: (x + y)/2,\n",
    "        \"2\":lambda x,y: math.sqrt(x * y),\n",
    "        \"3\":lambda x,y: (2 * x * y) / (x + y)\n",
    "    }[sel](x, y)\n",
    "    print(f\"평균({x}, {y}) = {mean}\")"
   ]
  },
  {
   "cell_type": "markdown",
   "id": "f236127b-fcb8-4295-92fe-9a05de3f9364",
   "metadata": {},
   "source": [
    "# 3. high order function\n",
    "- 함수를 인수로 받거나 결과 값으로 반환하는 함수를 고계 함수(higher-order function)\n",
    "- 고계 함수 --> 함수형(functional)"
   ]
  },
  {
   "cell_type": "code",
   "execution_count": 8,
   "id": "65f31ba7-d1d5-4bee-9b99-d23e69d62d45",
   "metadata": {
    "scrolled": true
   },
   "outputs": [
    {
     "name": "stdin",
     "output_type": "stream",
     "text": [
      "평균을 구할 두 수를 입력하세요.  12 21\n",
      "구하고 싶은 평균 번호를 입력하세요.\n",
      "      1. 산술평균\n",
      "      2. 기하평균\n",
      "      3. 조화평균\n",
      "    선택할 평균 번호:  3\n"
     ]
    },
    {
     "name": "stdout",
     "output_type": "stream",
     "text": [
      "평균(12, 21) = 15.272727272727273\n"
     ]
    }
   ],
   "source": [
    "import math\n",
    "\n",
    "def meanf(sel):\n",
    "    return {\n",
    "        \"1\":lambda x,y: (x + y)/2,\n",
    "        \"2\":lambda x,y: math.sqrt(x * y),\n",
    "        \"3\":lambda x,y: (2 * x * y) / (x + y)\n",
    "    }[sel]\n",
    "\n",
    "if __name__ == \"__main__\":\n",
    "    line = input(\"평균을 구할 두 수를 입력하세요. \")\n",
    "    (x, y) = (int(s) for s in line.split())\n",
    "    sel = input(\"\"\"구하고 싶은 평균 번호를 입력하세요.\n",
    "      1. 산술평균\n",
    "      2. 기하평균\n",
    "      3. 조화평균\n",
    "    선택할 평균 번호: \"\"\")\n",
    "    mean = meanf(sel)(x, y)\n",
    "    print(f\"평균({x}, {y}) = {mean}\")"
   ]
  },
  {
   "cell_type": "markdown",
   "id": "2c161ad4-06a9-47a7-9255-9b6a1a2a3914",
   "metadata": {},
   "source": [
    "- 내장, 라이브러리 high order function"
   ]
  },
  {
   "cell_type": "code",
   "execution_count": 9,
   "id": "a97330d7-a3ce-4af6-824a-72a0bbf4398d",
   "metadata": {},
   "outputs": [
    {
     "name": "stdout",
     "output_type": "stream",
     "text": [
      "55\n"
     ]
    }
   ],
   "source": [
    "s1 = sum(range(1,11))\n",
    "print(s1)"
   ]
  },
  {
   "cell_type": "code",
   "execution_count": 10,
   "id": "58ed0617-62d6-4e72-be17-e7066c85fa4c",
   "metadata": {},
   "outputs": [
    {
     "name": "stdout",
     "output_type": "stream",
     "text": [
      "385\n"
     ]
    }
   ],
   "source": [
    "s2 = sum(map(lambda x: x**2, range(1,11)))\n",
    "print(s2)"
   ]
  },
  {
   "cell_type": "code",
   "execution_count": 11,
   "id": "7dd1d2d7-7bcd-463a-adf2-7a3dfd5658d6",
   "metadata": {},
   "outputs": [
    {
     "name": "stdout",
     "output_type": "stream",
     "text": [
      "25\n"
     ]
    }
   ],
   "source": [
    "s3 = sum(filter(lambda x: x%2 != 0, range(1, 11)))\n",
    "print(s3)"
   ]
  },
  {
   "cell_type": "code",
   "execution_count": 9,
   "id": "d808c0fb-633f-4d6d-84b6-5c259d895c6f",
   "metadata": {},
   "outputs": [
    {
     "name": "stdout",
     "output_type": "stream",
     "text": [
      "3628800\n"
     ]
    }
   ],
   "source": [
    "from functools import reduce\n",
    "p1 = reduce(lambda x,y: x*y, range(1, 11))\n",
    "print(p1)"
   ]
  },
  {
   "cell_type": "markdown",
   "id": "7c08248f-4e5a-432d-85bc-fbbdf6f8cceb",
   "metadata": {},
   "source": [
    "- 집합 조건 제시법 : 조건을 이용한 집합 생성"
   ]
  },
  {
   "cell_type": "code",
   "execution_count": 10,
   "id": "aa1f8344-4554-44f6-85ad-6bc06f3d7aaa",
   "metadata": {},
   "outputs": [
    {
     "name": "stdout",
     "output_type": "stream",
     "text": [
      "{0, 1, 2, 3, 4, 5, 6, 7, 8, 9}\n",
      "{0, 2, 4, 6, 8, 10, 12, 14, 16, 18}\n",
      "{32, 1, 2, 64, 4, 128, 256, 512, 8, 16}\n"
     ]
    }
   ],
   "source": [
    "nat = set(range(10))\n",
    "evens = { 2 * n for n in nat }\n",
    "powers = { 2 ** n for n in nat }\n",
    "print(nat)\n",
    "print(evens)\n",
    "print(powers)"
   ]
  },
  {
   "cell_type": "markdown",
   "id": "9948a745-e7e2-436e-8da3-f9e72a557043",
   "metadata": {},
   "source": [
    "- 리스트 조건 제시법 : 조건을 이용해서 리스트 생성"
   ]
  },
  {
   "cell_type": "code",
   "execution_count": 11,
   "id": "809edf86-de45-4715-aa54-92ac43525cc5",
   "metadata": {},
   "outputs": [
    {
     "name": "stdout",
     "output_type": "stream",
     "text": [
      "[0, 1, 2, 3, 4, 5, 6, 7, 8, 9]\n",
      "[0, 2, 4, 6, 8, 10, 12, 14, 16, 18]\n",
      "[1, 2, 4, 8, 16, 32, 64, 128, 256, 512]\n"
     ]
    }
   ],
   "source": [
    "nat = list(range(10))\n",
    "evens = [ 2 * n for n in nat ]\n",
    "powers = [ 2 ** n for n in nat ]\n",
    "print(nat)\n",
    "print(evens)\n",
    "print(powers)"
   ]
  },
  {
   "cell_type": "markdown",
   "id": "4229b823-4c4a-440f-b3b3-fafb03f2a4a4",
   "metadata": {},
   "source": [
    "- 필터를 이용한 조건 제시법"
   ]
  },
  {
   "cell_type": "code",
   "execution_count": 12,
   "id": "d4f65d98-a1a6-4125-b2d9-71e600f55be2",
   "metadata": {},
   "outputs": [
    {
     "name": "stdout",
     "output_type": "stream",
     "text": [
      "[0, 2, 4, 6, 8, 10, 12, 14, 16, 18]\n",
      "[1, 3, 5, 7, 9, 11, 13, 15, 17, 19]\n",
      "True\n"
     ]
    }
   ],
   "source": [
    "nat = list(range(20))\n",
    "evens = [ n for n in nat if n % 2 == 0]\n",
    "odds  = [ n for n in nat if n % 2 != 0]\n",
    "print(evens)\n",
    "print(odds)\n",
    "print(sum(evens+odds) == sum(nat))      # comparing checksums"
   ]
  },
  {
   "cell_type": "markdown",
   "id": "f94124e3-1335-4395-80e8-1edaeb58edf7",
   "metadata": {},
   "source": [
    "- 반복문을 이용한 조건 제시법"
   ]
  },
  {
   "cell_type": "code",
   "execution_count": 13,
   "id": "01793470-044a-418c-a44d-5ebfe5c8ba24",
   "metadata": {},
   "outputs": [
    {
     "name": "stdin",
     "output_type": "stream",
     "text": [
      "Enter a word:  Seokil song\n"
     ]
    },
    {
     "name": "stdout",
     "output_type": "stream",
     "text": [
      "The list of codes:  [83, 101, 111, 107, 105, 108, 32, 115, 111, 110, 103]\n"
     ]
    }
   ],
   "source": [
    "word = input(\"Enter a word: \")\n",
    "code = []\n",
    "for c in word:\n",
    "    code.append(ord(c))\n",
    "print(\"The list of codes: \", code)"
   ]
  },
  {
   "cell_type": "code",
   "execution_count": 14,
   "id": "63f2cc69-3b53-4948-9958-9797c7287f0b",
   "metadata": {},
   "outputs": [
    {
     "name": "stdin",
     "output_type": "stream",
     "text": [
      "Enter a word:  Seokil song\n"
     ]
    },
    {
     "name": "stdout",
     "output_type": "stream",
     "text": [
      "The list of codes:  [83, 101, 111, 107, 105, 108, 32, 115, 111, 110, 103]\n"
     ]
    }
   ],
   "source": [
    "word = input(\"Enter a word: \")\n",
    "code = [ord(c) for c in word]\n",
    "print(\"The list of codes: \", code)"
   ]
  },
  {
   "cell_type": "code",
   "execution_count": null,
   "id": "6ddb683d-c5ad-4415-8796-4b40ceb9d357",
   "metadata": {},
   "outputs": [],
   "source": []
  }
 ],
 "metadata": {
  "kernelspec": {
   "display_name": "Python 3 (ipykernel)",
   "language": "python",
   "name": "python3"
  },
  "language_info": {
   "codemirror_mode": {
    "name": "ipython",
    "version": 3
   },
   "file_extension": ".py",
   "mimetype": "text/x-python",
   "name": "python",
   "nbconvert_exporter": "python",
   "pygments_lexer": "ipython3",
   "version": "3.11.5"
  }
 },
 "nbformat": 4,
 "nbformat_minor": 5
}
