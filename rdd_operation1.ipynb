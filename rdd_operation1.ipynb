{
 "cells": [
  {
   "cell_type": "markdown",
   "id": "a18c379b-8086-4b96-8787-59878d478e14",
   "metadata": {},
   "source": [
    "# Spark UI 접속을 위한 docker run 명령어\n",
    "docker run -p 8888:8888 -p 4040:4040 -e JUPYTER_ENABLE_LAB=yes -e GRANT_SUDO=yes --user root -v /Users/seokil/docker-vols/pyspark:/home/jovyan/work --restart always jupyter/all-spark-notebook\n",
    "\n",
    "이경우 spark_session을 master(\"local\") 로 생성해야 함 (아래 sample code 참조)"
   ]
  },
  {
   "cell_type": "markdown",
   "id": "c713a2e9-2622-4bc0-95b6-d027655e66c8",
   "metadata": {},
   "source": [
    "# RDD 연산 - 1\n",
    "- Transformation 과 Action 으로 구분됨\n",
    "    - Transformation : RDD는 immutable (불변) 특성을 가짐.  변겨을 위해서는 새로운 RDD를 생성하고 변경\n",
    "    - Action : RDD의 내용을 조회, 저장\n",
    "- Sparse 연산 : RDD의 개별 레코드를 변경할 수 없음. 모든 레코드에 대해서 동일하게 적용되는 연산. 리니지를 단순화하기 위해. \n",
    "- Lazy Evaluation 또는 Lazy Execution : \n",
    "    - Transformation 연산은 바로 실행되지 않고, parsing 만 됨. \n",
    "    - Action이 수행될때 Action에 필요한 RDD를 만들기 위한 Transformation 이 수행됨. \n",
    "    - Driver는 Action 연산을 실행하기 위해 RDD 생성 DAG를 만들고 최적화 <- 작업양 최소화 및 Shuffling시 데이터 이동 최소화\n"
   ]
  },
  {
   "cell_type": "code",
   "execution_count": 3,
   "id": "18d14cec-5858-4b78-a498-af33fe21064f",
   "metadata": {},
   "outputs": [],
   "source": [
    "from pyspark.sql import SparkSession\n",
    "spark_session = SparkSession.builder.master(\"local\").appName(\"rdd-op-test1\").getOrCreate()"
   ]
  },
  {
   "cell_type": "code",
   "execution_count": 2,
   "id": "0ac0b3ba-407e-4c16-ac24-60a04271b1cb",
   "metadata": {},
   "outputs": [],
   "source": [
    "rdd1 = spark_session.sparkContext.parallelize([0,1,2,3,4,5,6,7,8,9])\n",
    "rdd2 = rdd1.filter(lambda x: x%2)"
   ]
  },
  {
   "cell_type": "code",
   "execution_count": 3,
   "id": "fe7ac07b-8ff6-470c-b12a-9f8302da8eb5",
   "metadata": {
    "tags": []
   },
   "outputs": [
    {
     "data": {
      "text/plain": [
       "[1, 3, 5, 7, 9]"
      ]
     },
     "execution_count": 3,
     "metadata": {},
     "output_type": "execute_result"
    }
   ],
   "source": [
    "rdd2.collect()"
   ]
  },
  {
   "cell_type": "markdown",
   "id": "17b33882-09b3-4a33-909d-fa8d84f05fed",
   "metadata": {},
   "source": [
    "# RDD 지속성 및 재사용\n",
    "    - RDD는 익스큐터(executor)의 메모리에 생성됨\n",
    "    - 생성된 RDD는 더아상 참조되지 않으면 (사용되지 않으면) 삭제됨.\n",
    "    - 이후 Action연산이 수행되기 위해 다시 RDD를 생성해야 함. \n",
    "    - Persist()를 이용하면 메모리에 지속됨"
   ]
  },
  {
   "cell_type": "code",
   "execution_count": 4,
   "id": "e3354cbd-403e-4f76-adef-4b52595fa449",
   "metadata": {},
   "outputs": [
    {
     "data": {
      "text/plain": [
       "PythonRDD[3] at RDD at PythonRDD.scala:53"
      ]
     },
     "execution_count": 4,
     "metadata": {},
     "output_type": "execute_result"
    }
   ],
   "source": [
    "prdd1 = spark_session.sparkContext.parallelize([0,1,2,3,4,5,6,7,8,9])\n",
    "prdd2 = rdd1.filter(lambda x: x%2)\n",
    "prdd2.persist()"
   ]
  },
  {
   "cell_type": "code",
   "execution_count": 5,
   "id": "c224e80e-d077-411e-b804-2fe88efbd187",
   "metadata": {},
   "outputs": [
    {
     "data": {
      "text/plain": [
       "[1, 3, 5, 7, 9]"
      ]
     },
     "execution_count": 5,
     "metadata": {},
     "output_type": "execute_result"
    }
   ],
   "source": [
    "rdd2.collect()"
   ]
  },
  {
   "cell_type": "markdown",
   "id": "fd8dfba3-4ffb-4131-a9fd-d92b7093a971",
   "metadata": {},
   "source": [
    "# RDD의 유형\n",
    "- PairRDD : Key-Value RDD\n",
    "- DoubleRDD : Double Value RDD\n",
    "- DataFrame : Table 형식의 데이터 RDD\n",
    "- SecuenceFileRDD\n",
    "- HadoopRDD\n",
    "- NewHadoopRDD\n",
    "- CoGroupRDD\n",
    "- JdbcRDD\n",
    "- PartitioningPruningRDD :특정 파티션에 대해서는 작업이 수행되지 않도록 제한 할 수 있는 RDD\n",
    "- ShuffledRDD : Shuffle 을 통해 만들어진 RDD\n",
    "- UnionRDD"
   ]
  },
  {
   "cell_type": "markdown",
   "id": "4c8e4822-0dcf-47e3-8496-d844e998d745",
   "metadata": {},
   "source": [
    "# 기본 RDD Transportation 연산\n",
    "\n",
    "- RDD.map(function, preservesPartitioning=False)\n",
    "- RDD.flatMap(function, preservesPartitioning=False)\n",
    "- RDD.filter(function)\n",
    "- RDD.distinct(numPartitions=None)\n",
    "- RDD.groupBy(function, numPartitions=None)\n"
   ]
  },
  {
   "cell_type": "code",
   "execution_count": 4,
   "id": "8a97caa1-ac0a-490a-8769-e8003218d87e",
   "metadata": {},
   "outputs": [
    {
     "data": {
      "text/plain": [
       "[\"A MIDSUMMER-NIGHT'S DREAM\",\n",
       " '',\n",
       " 'Now , fair Hippolyta , our nuptial hour ',\n",
       " 'Draws on apace : four happy days bring in ',\n",
       " 'Another moon ; but O ! methinks how slow ']"
      ]
     },
     "execution_count": 4,
     "metadata": {},
     "output_type": "execute_result"
    }
   ],
   "source": [
    "shakespeare = spark_session.sparkContext.textFile(\"./data/shakespeare.txt\")\n",
    "shakespeare.take(5)"
   ]
  },
  {
   "cell_type": "code",
   "execution_count": 7,
   "id": "594441af-c329-476b-a86d-08c8660120b9",
   "metadata": {},
   "outputs": [
    {
     "data": {
      "text/plain": [
       "['A', \"MIDSUMMER-NIGHT'S\", 'DREAM', '', 'Now']"
      ]
     },
     "execution_count": 7,
     "metadata": {},
     "output_type": "execute_result"
    }
   ],
   "source": [
    "words = shakespeare.flatMap(lambda x: x.split(' '))\n",
    "words.take(5)"
   ]
  },
  {
   "cell_type": "code",
   "execution_count": 8,
   "id": "5b2025e4-695d-4876-ad25-7603524b9721",
   "metadata": {},
   "outputs": [
    {
     "data": {
      "text/plain": [
       "['a',\n",
       " \"midsummer-night's\",\n",
       " 'dream',\n",
       " '',\n",
       " 'now',\n",
       " ',',\n",
       " 'fair',\n",
       " 'hippolyta',\n",
       " ',',\n",
       " 'our']"
      ]
     },
     "execution_count": 8,
     "metadata": {},
     "output_type": "execute_result"
    }
   ],
   "source": [
    "lowercase = words.map(lambda x: x.lower())\n",
    "lowercase.take(10)"
   ]
  },
  {
   "cell_type": "code",
   "execution_count": 10,
   "id": "1bbdb6af-23e7-4afc-a9c8-dbb6f3bc6f58",
   "metadata": {},
   "outputs": [
    {
     "data": {
      "text/plain": [
       "[\"midsummer-night's\", 'dream', 'now', 'fair', 'hippolyta']"
      ]
     },
     "execution_count": 10,
     "metadata": {},
     "output_type": "execute_result"
    }
   ],
   "source": [
    "longwords = lowercase.filter(lambda x: len(x) > 2)\n",
    "longwords.take(5)"
   ]
  },
  {
   "cell_type": "code",
   "execution_count": 10,
   "id": "2d73022a-13bf-4416-ad70-8a1cb10286e4",
   "metadata": {},
   "outputs": [
    {
     "data": {
      "text/plain": [
       "632856"
      ]
     },
     "execution_count": 10,
     "metadata": {},
     "output_type": "execute_result"
    }
   ],
   "source": [
    "longwords_cnt = longwords.count()\n",
    "longwords_cnt"
   ]
  },
  {
   "cell_type": "code",
   "execution_count": 11,
   "id": "99300c56-3e2c-4907-9010-d5bc9f30f1fd",
   "metadata": {},
   "outputs": [
    {
     "data": {
      "text/plain": [
       "28734"
      ]
     },
     "execution_count": 11,
     "metadata": {},
     "output_type": "execute_result"
    }
   ],
   "source": [
    "distinctwords = longwords.distinct()\n",
    "distinctwords_cnt = distinctwords.count()\n",
    "distinctwords_cnt"
   ]
  },
  {
   "cell_type": "code",
   "execution_count": 16,
   "id": "a75b7d76-1a41-461a-a607-bee6d79be6a8",
   "metadata": {},
   "outputs": [
    {
     "name": "stdout",
     "output_type": "stream",
     "text": [
      "[('m', <pyspark.resultiterable.ResultIterable object at 0x7f6e216ced50>), ('d', <pyspark.resultiterable.ResultIterable object at 0x7f6e218c66d0>), ('n', <pyspark.resultiterable.ResultIterable object at 0x7f6e216f3f10>), ('f', <pyspark.resultiterable.ResultIterable object at 0x7f6e216ced90>), ('h', <pyspark.resultiterable.ResultIterable object at 0x7f6e21716110>), ('o', <pyspark.resultiterable.ResultIterable object at 0x7f6e217280d0>), ('a', <pyspark.resultiterable.ResultIterable object at 0x7f6e21733b90>), ('b', <pyspark.resultiterable.ResultIterable object at 0x7f6e216f3ed0>), ('s', <pyspark.resultiterable.ResultIterable object at 0x7f6e217672d0>), ('t', <pyspark.resultiterable.ResultIterable object at 0x7f6e21798390>)]\n"
     ]
    },
    {
     "data": {
      "text/plain": [
       "35"
      ]
     },
     "execution_count": 16,
     "metadata": {},
     "output_type": "execute_result"
    }
   ],
   "source": [
    "groupby_firstletter = distinctwords.groupBy(lambda x: x[0].lower())\n",
    "print(groupby_firstletter.take(10))\n",
    "groupby_firstletter.count()"
   ]
  },
  {
   "cell_type": "code",
   "execution_count": 13,
   "id": "264de4ea-a55c-4bf2-8f24-236dd471c825",
   "metadata": {},
   "outputs": [
    {
     "data": {
      "text/plain": [
       "[('m', <pyspark.resultiterable.ResultIterable at 0x7f5696f5e5f0>),\n",
       " ('d', <pyspark.resultiterable.ResultIterable at 0x7f5696f5e1a0>),\n",
       " ('n', <pyspark.resultiterable.ResultIterable at 0x7f5696f5e530>)]"
      ]
     },
     "execution_count": 13,
     "metadata": {},
     "output_type": "execute_result"
    }
   ],
   "source": [
    "groupby_firstletter.take(3)"
   ]
  },
  {
   "cell_type": "code",
   "execution_count": 14,
   "id": "9827350a-ea40-4a7b-8c75-5510d73d4539",
   "metadata": {},
   "outputs": [
    {
     "data": {
      "text/plain": [
       "['zwaggered',\n",
       " 'zur',\n",
       " 'zounds',\n",
       " 'zone',\n",
       " 'zodiacs',\n",
       " 'zodiac',\n",
       " 'zephyrs',\n",
       " 'zenith',\n",
       " 'zenelophon',\n",
       " 'zed']"
      ]
     },
     "execution_count": 14,
     "metadata": {},
     "output_type": "execute_result"
    }
   ],
   "source": [
    "distinctwords_sort = distinctwords.sortBy(lambda x: x, ascending=False)\n",
    "distinctwords_sort.take(10)"
   ]
  },
  {
   "cell_type": "code",
   "execution_count": 15,
   "id": "0927b8e2-f790-4648-891b-da94f04f2e9d",
   "metadata": {},
   "outputs": [
    {
     "data": {
      "text/plain": [
       "['azure',\n",
       " \"azur'd\",\n",
       " \"'zounds\",\n",
       " 'lysander',\n",
       " 'eyes',\n",
       " 'aye',\n",
       " 'hymns',\n",
       " 'eye',\n",
       " 'sympathy',\n",
       " 'myself']"
      ]
     },
     "execution_count": 15,
     "metadata": {},
     "output_type": "execute_result"
    }
   ],
   "source": [
    "distinctwords_sort = distinctwords.sortBy(lambda x: x[1], ascending=False)\n",
    "distinctwords_sort.take(10)"
   ]
  },
  {
   "cell_type": "code",
   "execution_count": 16,
   "id": "dbbb4b27-2fbf-4200-a5e1-ddd74d29437b",
   "metadata": {},
   "outputs": [
    {
     "data": {
      "text/plain": [
       "[\"midsummer-night's\",\n",
       " 'dream',\n",
       " 'now',\n",
       " 'fair',\n",
       " 'hippolyta',\n",
       " 'our',\n",
       " 'nuptial',\n",
       " 'hour',\n",
       " 'draws',\n",
       " 'apace']"
      ]
     },
     "execution_count": 16,
     "metadata": {},
     "output_type": "execute_result"
    }
   ],
   "source": [
    "#distinctwords.collect()\n",
    "distinctwords.take(10)"
   ]
  },
  {
   "cell_type": "code",
   "execution_count": 17,
   "id": "8e83edbb-d935-4997-baea-9fb35e6af4e0",
   "metadata": {},
   "outputs": [
    {
     "data": {
      "text/plain": [
       "['zwaggered',\n",
       " 'zur',\n",
       " 'zounds',\n",
       " 'zone',\n",
       " 'zodiacs',\n",
       " 'zodiac',\n",
       " 'zephyrs',\n",
       " 'zenith',\n",
       " 'zenelophon',\n",
       " 'zed']"
      ]
     },
     "execution_count": 17,
     "metadata": {},
     "output_type": "execute_result"
    }
   ],
   "source": [
    "distinctwords.top(10)"
   ]
  },
  {
   "cell_type": "code",
   "execution_count": 18,
   "id": "3465626c-95fa-4ff8-99fa-083538f83c9a",
   "metadata": {},
   "outputs": [
    {
     "data": {
      "text/plain": [
       "\"midsummer-night's\""
      ]
     },
     "execution_count": 18,
     "metadata": {},
     "output_type": "execute_result"
    }
   ],
   "source": [
    "distinctwords.first()"
   ]
  },
  {
   "cell_type": "markdown",
   "id": "dd0cf98e-3fee-4fef-9c5a-4bb6f4d04bb9",
   "metadata": {},
   "source": [
    "# reduce vs fold\n",
    "- RDD의 요소를 줄이는 액션\n",
    "- fold는 초기 값으로 0를 입력"
   ]
  },
  {
   "cell_type": "code",
   "execution_count": 28,
   "id": "10cf7ddd-79ce-4e3d-8ed2-eccf48047927",
   "metadata": {},
   "outputs": [
    {
     "data": {
      "text/plain": [
       "45"
      ]
     },
     "execution_count": 28,
     "metadata": {},
     "output_type": "execute_result"
    }
   ],
   "source": [
    "numbers = spark_session.sparkContext.parallelize([0,1,2,3,4,5,6,7,8,9])\n",
    "numbers.reduce(lambda x, y: x+y)"
   ]
  },
  {
   "cell_type": "code",
   "execution_count": 20,
   "id": "675a473a-26d7-41f9-98e6-913637a859bc",
   "metadata": {},
   "outputs": [
    {
     "data": {
      "text/plain": [
       "45"
      ]
     },
     "execution_count": 20,
     "metadata": {},
     "output_type": "execute_result"
    }
   ],
   "source": [
    "numbers.fold(0, lambda x, y: x+y)"
   ]
  },
  {
   "cell_type": "code",
   "execution_count": 21,
   "id": "bd625875-80cf-44d2-8d3e-e82df015b41c",
   "metadata": {},
   "outputs": [
    {
     "ename": "ValueError",
     "evalue": "Can not reduce() empty RDD",
     "output_type": "error",
     "traceback": [
      "\u001b[0;31m---------------------------------------------------------------------------\u001b[0m",
      "\u001b[0;31mValueError\u001b[0m                                Traceback (most recent call last)",
      "Cell \u001b[0;32mIn [21], line 2\u001b[0m\n\u001b[1;32m      1\u001b[0m empty \u001b[38;5;241m=\u001b[39m spark_session\u001b[38;5;241m.\u001b[39msparkContext\u001b[38;5;241m.\u001b[39mparallelize([])\n\u001b[0;32m----> 2\u001b[0m \u001b[43mempty\u001b[49m\u001b[38;5;241;43m.\u001b[39;49m\u001b[43mreduce\u001b[49m\u001b[43m(\u001b[49m\u001b[38;5;28;43;01mlambda\u001b[39;49;00m\u001b[43m \u001b[49m\u001b[43mx\u001b[49m\u001b[43m,\u001b[49m\u001b[43m \u001b[49m\u001b[43my\u001b[49m\u001b[43m:\u001b[49m\u001b[43m \u001b[49m\u001b[43mx\u001b[49m\u001b[43m \u001b[49m\u001b[38;5;241;43m+\u001b[39;49m\u001b[43m \u001b[49m\u001b[43my\u001b[49m\u001b[43m)\u001b[49m\n",
      "File \u001b[0;32m/usr/local/spark/python/pyspark/rdd.py:1253\u001b[0m, in \u001b[0;36mRDD.reduce\u001b[0;34m(self, f)\u001b[0m\n\u001b[1;32m   1251\u001b[0m \u001b[38;5;28;01mif\u001b[39;00m vals:\n\u001b[1;32m   1252\u001b[0m     \u001b[38;5;28;01mreturn\u001b[39;00m reduce(f, vals)\n\u001b[0;32m-> 1253\u001b[0m \u001b[38;5;28;01mraise\u001b[39;00m \u001b[38;5;167;01mValueError\u001b[39;00m(\u001b[38;5;124m\"\u001b[39m\u001b[38;5;124mCan not reduce() empty RDD\u001b[39m\u001b[38;5;124m\"\u001b[39m)\n",
      "\u001b[0;31mValueError\u001b[0m: Can not reduce() empty RDD"
     ]
    }
   ],
   "source": [
    "empty = spark_session.sparkContext.parallelize([])\n",
    "empty.reduce(lambda x, y: x + y)"
   ]
  },
  {
   "cell_type": "code",
   "execution_count": null,
   "id": "3b7ce68b-332f-4488-a6c6-c6d3fdfd8819",
   "metadata": {},
   "outputs": [],
   "source": [
    "result = empty.fold(0, lambda x, y: x + y)\n",
    "result"
   ]
  },
  {
   "cell_type": "markdown",
   "id": "fe1c6c37-c114-4441-a986-563510c85eb4",
   "metadata": {},
   "source": [
    "# foreach \n",
    "RDD.foreach(function)\n",
    "- Action 연산이면서 입력한 function 을 RDD 모든 엘리먼트에 적용함\n",
    "- 각 worker가 함수를 실행함"
   ]
  },
  {
   "cell_type": "code",
   "execution_count": 17,
   "id": "1b956a44-1777-4656-ad56-079665c60367",
   "metadata": {},
   "outputs": [],
   "source": [
    "def print_func(x):\n",
    "    print(x)\n",
    "\n",
    "longwords.foreach(print_func)"
   ]
  },
  {
   "cell_type": "code",
   "execution_count": null,
   "id": "51532ac1-48b9-42f6-96ad-53e510741427",
   "metadata": {},
   "outputs": [],
   "source": []
  }
 ],
 "metadata": {
  "kernelspec": {
   "display_name": "Python 3 (ipykernel)",
   "language": "python",
   "name": "python3"
  },
  "language_info": {
   "codemirror_mode": {
    "name": "ipython",
    "version": 3
   },
   "file_extension": ".py",
   "mimetype": "text/x-python",
   "name": "python",
   "nbconvert_exporter": "python",
   "pygments_lexer": "ipython3",
   "version": "3.11.5"
  }
 },
 "nbformat": 4,
 "nbformat_minor": 5
}
